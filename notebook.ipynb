{
 "cells": [
  {
   "cell_type": "markdown",
   "metadata": {},
   "source": [
    "<img src = \"images\\What-does-a-film-studio-do.jpg\">\n",
    "\n",
    "# Assessing the Commercial viability of a new movie studio for original content creation.\n",
    "\n",
    "***"
   ]
  },
  {
   "cell_type": "markdown",
   "metadata": {},
   "source": [
    "## Overview\n",
    "\n",
    "The project has been undertaken to assess the commercial viablity of setting up a movie studio for original content creation and to determine the most profitable and promising film genre that the studio can create to achieve the objectives of profit maximization,business reputation growth and wealth creation for its shareholders.\n",
    "***"
   ]
  },
  {
   "cell_type": "markdown",
   "metadata": {},
   "source": [
    "### Business Problem\n",
    "\n",
    "<img src = \"images\\moringa_clips.jpeg\" width=\"300\">\n",
    "\n",
    "Moringa Clips is a web video service company that wants to join the original content creation space and have decided to set up their own movie studio to achieve this.They have no experience in film production.In order to determine what type of films the studio should create, we have to conduct an exploratory data analysis on data collected from various review websites to generate insights that will guide the film production team on the way to go about the new project. \n",
    "\n",
    "The target audience of this project is as follows:\n",
    "* The creative director of the film studio.\n",
    "* Company shareholders.\n",
    "* Financial insitutions providing Credit facilities to production companies.\n",
    "* The finance department of the company.\n",
    "\n",
    "The key objective questions are as follows:\n",
    "1. What movie genre generates the highest ratings in box-offices?\n",
    "\n",
    "2. What is the most profitable genre of films when we compare movie budget to gross income at box office?\n",
    "\n",
    "3. Does a higher movie budget guarantee a higher box office gross income?\n",
    "\n",
    "4. Which existing movie studios generate the highest box office gross and what type of movies do they create?\n",
    "5. Do movie ratings correlate with gross box office numbers?\n",
    "6. Are movie ratings determined by the movie budget?   \n",
    "***"
   ]
  },
  {
   "cell_type": "markdown",
   "metadata": {},
   "source": [
    "## Data Understanding"
   ]
  },
  {
   "cell_type": "markdown",
   "metadata": {},
   "source": [
    "### The Data\n",
    "\n",
    "In the folder `data` are movie datasets from:\n",
    "\n",
    "* [Box Office Mojo](https://www.boxofficemojo.com/)\n",
    "* [IMDB](https://www.imdb.com/)\n",
    "* [Rotten Tomatoes](https://www.rottentomatoes.com/)\n",
    "* [TheMovieDB](https://www.themoviedb.org/)\n",
    "* [The Numbers](https://www.the-numbers.com/)\n",
    "\n",
    "Because it was collected from various locations, the different files have different formats. Some are compressed CSV (comma-separated values) or TSV (tab-separated values) and then there is a IMDB database.\n",
    "\n",
    "The IMDB database Entity Relationship Diagram is as follows:\n",
    "\n",
    "![movie data erd](https://raw.githubusercontent.com/learn-co-curriculum/dsc-phase-2-project-v3/main/movie_data_erd.jpeg)"
   ]
  },
  {
   "cell_type": "markdown",
   "metadata": {},
   "source": [
    "### Loading the relevant packages"
   ]
  },
  {
   "cell_type": "code",
   "execution_count": 1,
   "metadata": {},
   "outputs": [],
   "source": [
    "# Importing the nessesary libraries\n",
    "from math import * #Makes basic math operations easier\n",
    "from itertools import * # Makes grouping within a noebook easier.\n",
    "from collections import * #To make count operations easier\n",
    "import sqlite3 # To read into the database\n",
    "import pandas as pd\n",
    "import scipy.stats as stats #For statistical operations(Hypothesis testing)\n",
    "import matplotlib.pyplot as plt# Plotting data\n",
    "import seaborn as sns\n",
    "import numpy as np # For numerical operations\n",
    "import statsmodels.api as sm # For regression equations\n",
    "plt.style.use('seaborn-v0_8-whitegrid') #Setting the style for the regression plots\n",
    "\n",
    "%matplotlib inline"
   ]
  },
  {
   "cell_type": "markdown",
   "metadata": {},
   "source": [
    "### Connecting and reading through `im.db` database.\n",
    "* For the project we are mostly concerned with the `movie_basics` and `movie_ratings` tables however,as we are working through the analysis we may read through other tables."
   ]
  },
  {
   "cell_type": "code",
   "execution_count": 2,
   "metadata": {},
   "outputs": [],
   "source": [
    "#Connecting into the database using SQL Lite\n",
    "conn = sqlite3.connect(\"data/im.db\")\n",
    "cursor = conn.cursor()\n",
    "\n",
    "#Converting the relevant tables into Dataframes\n",
    "movie_basics = '''SELECT *\n",
    "                    FROM movie_basics;\n",
    "                    '''\n",
    "movie_ratings = '''SELECT *\n",
    "                    FROM movie_ratings;'''\n",
    "\n",
    "movie_basics_df = pd.read_sql(movie_basics, conn)\n",
    "movie_ratings_df = pd.read_sql(movie_ratings, conn)"
   ]
  },
  {
   "cell_type": "code",
   "execution_count": 3,
   "metadata": {},
   "outputs": [
    {
     "name": "stdout",
     "output_type": "stream",
     "text": [
      "    movie_id                    primary_title              original_title  \\\n",
      "0  tt0063540                        Sunghursh                   Sunghursh   \n",
      "1  tt0066787  One Day Before the Rainy Season             Ashad Ka Ek Din   \n",
      "2  tt0069049       The Other Side of the Wind  The Other Side of the Wind   \n",
      "3  tt0069204                  Sabse Bada Sukh             Sabse Bada Sukh   \n",
      "4  tt0100275         The Wandering Soap Opera       La Telenovela Errante   \n",
      "\n",
      "   start_year  runtime_minutes                genres  \n",
      "0        2013            175.0    Action,Crime,Drama  \n",
      "1        2019            114.0       Biography,Drama  \n",
      "2        2018            122.0                 Drama  \n",
      "3        2018              NaN          Comedy,Drama  \n",
      "4        2017             80.0  Comedy,Drama,Fantasy  \n"
     ]
    }
   ],
   "source": [
    "#Displaying the first 5 rows and the information for movie_basics\n",
    "print(movie_basics_df.head())\n"
   ]
  },
  {
   "cell_type": "code",
   "execution_count": 4,
   "metadata": {},
   "outputs": [
    {
     "name": "stdout",
     "output_type": "stream",
     "text": [
      "<class 'pandas.core.frame.DataFrame'>\n",
      "RangeIndex: 146144 entries, 0 to 146143\n",
      "Data columns (total 6 columns):\n",
      " #   Column           Non-Null Count   Dtype  \n",
      "---  ------           --------------   -----  \n",
      " 0   movie_id         146144 non-null  object \n",
      " 1   primary_title    146144 non-null  object \n",
      " 2   original_title   146123 non-null  object \n",
      " 3   start_year       146144 non-null  int64  \n",
      " 4   runtime_minutes  114405 non-null  float64\n",
      " 5   genres           140736 non-null  object \n",
      "dtypes: float64(1), int64(1), object(4)\n",
      "memory usage: 6.7+ MB\n",
      "None\n"
     ]
    }
   ],
   "source": [
    "print(movie_basics_df.info())"
   ]
  },
  {
   "cell_type": "code",
   "execution_count": 5,
   "metadata": {},
   "outputs": [
    {
     "name": "stdout",
     "output_type": "stream",
     "text": [
      "     movie_id  averagerating  numvotes\n",
      "0  tt10356526            8.3        31\n",
      "1  tt10384606            8.9       559\n",
      "2   tt1042974            6.4        20\n",
      "3   tt1043726            4.2     50352\n",
      "4   tt1060240            6.5        21\n"
     ]
    }
   ],
   "source": [
    "# Displaying the first 5 rows of movie_ratings and the info for movie_ratings.\n",
    "\n",
    "print(movie_ratings_df.head())\n",
    "\n"
   ]
  },
  {
   "cell_type": "code",
   "execution_count": 6,
   "metadata": {},
   "outputs": [
    {
     "name": "stdout",
     "output_type": "stream",
     "text": [
      "<class 'pandas.core.frame.DataFrame'>\n",
      "RangeIndex: 73856 entries, 0 to 73855\n",
      "Data columns (total 3 columns):\n",
      " #   Column         Non-Null Count  Dtype  \n",
      "---  ------         --------------  -----  \n",
      " 0   movie_id       73856 non-null  object \n",
      " 1   averagerating  73856 non-null  float64\n",
      " 2   numvotes       73856 non-null  int64  \n",
      "dtypes: float64(1), int64(1), object(1)\n",
      "memory usage: 1.7+ MB\n",
      "None\n"
     ]
    }
   ],
   "source": [
    "print(movie_ratings_df.info())"
   ]
  },
  {
   "cell_type": "markdown",
   "metadata": {},
   "source": [
    "### Loading and reading through the movie budget and gross box office movie CSV files.\n",
    "* This is a nessesary dataset since we are concerned with the commercial viability of building a new studio."
   ]
  },
  {
   "cell_type": "markdown",
   "metadata": {},
   "source": [
    "#### The gross box office movie dataframe"
   ]
  },
  {
   "cell_type": "code",
   "execution_count": 7,
   "metadata": {},
   "outputs": [
    {
     "name": "stdout",
     "output_type": "stream",
     "text": [
      "                                         title studio  domestic_gross  \\\n",
      "0                                  Toy Story 3     BV     415000000.0   \n",
      "1                   Alice in Wonderland (2010)     BV     334200000.0   \n",
      "2  Harry Potter and the Deathly Hallows Part 1     WB     296000000.0   \n",
      "3                                    Inception     WB     292600000.0   \n",
      "4                          Shrek Forever After   P/DW     238700000.0   \n",
      "\n",
      "  foreign_gross  year  \n",
      "0     652000000  2010  \n",
      "1     691300000  2010  \n",
      "2     664300000  2010  \n",
      "3     535700000  2010  \n",
      "4     513900000  2010  \n"
     ]
    }
   ],
   "source": [
    "# Gross Box Office Revenue\n",
    "# Loading and reading through the Gross box office movie dataset.\n",
    "\n",
    "gross_bom = pd.read_csv(\"data/Bom.movie_gross.csv\")\n",
    "\n",
    "#Displaying the first 5 rows\n",
    "print(gross_bom.head())\n"
   ]
  },
  {
   "cell_type": "code",
   "execution_count": 8,
   "metadata": {},
   "outputs": [
    {
     "name": "stdout",
     "output_type": "stream",
     "text": [
      "<class 'pandas.core.frame.DataFrame'>\n",
      "RangeIndex: 3387 entries, 0 to 3386\n",
      "Data columns (total 5 columns):\n",
      " #   Column          Non-Null Count  Dtype  \n",
      "---  ------          --------------  -----  \n",
      " 0   title           3387 non-null   object \n",
      " 1   studio          3382 non-null   object \n",
      " 2   domestic_gross  3359 non-null   float64\n",
      " 3   foreign_gross   2037 non-null   object \n",
      " 4   year            3387 non-null   int64  \n",
      "dtypes: float64(1), int64(1), object(3)\n",
      "memory usage: 132.4+ KB\n",
      "None\n"
     ]
    }
   ],
   "source": [
    "#Displaying the information about the Box Office Gross Revenue\n",
    "print(gross_bom.info())"
   ]
  },
  {
   "cell_type": "markdown",
   "metadata": {},
   "source": [
    "#### The movie budget dataframe"
   ]
  },
  {
   "cell_type": "code",
   "execution_count": 9,
   "metadata": {},
   "outputs": [
    {
     "name": "stdout",
     "output_type": "stream",
     "text": [
      "    release_date                                        movie  \\\n",
      "id                                                              \n",
      "1   Dec 18, 2009                                       Avatar   \n",
      "2   May 20, 2011  Pirates of the Caribbean: On Stranger Tides   \n",
      "3    Jun 7, 2019                                 Dark Phoenix   \n",
      "4    May 1, 2015                      Avengers: Age of Ultron   \n",
      "5   Dec 15, 2017            Star Wars Ep. VIII: The Last Jedi   \n",
      "\n",
      "   production_budget domestic_gross worldwide_gross  \n",
      "id                                                   \n",
      "1       $425,000,000   $760,507,625  $2,776,345,279  \n",
      "2       $410,600,000   $241,063,875  $1,045,663,875  \n",
      "3       $350,000,000    $42,762,350    $149,762,350  \n",
      "4       $330,600,000   $459,005,868  $1,403,013,963  \n",
      "5       $317,000,000   $620,181,382  $1,316,721,747  \n"
     ]
    }
   ],
   "source": [
    "#Loading Dataframe and Displaying first 5 rows\n",
    "movie_budget = pd.read_csv(\"data/tn.movie_budgets.csv\", index_col=\"id\")\n",
    "\n",
    "print(movie_budget.head())"
   ]
  },
  {
   "cell_type": "code",
   "execution_count": 10,
   "metadata": {},
   "outputs": [
    {
     "name": "stdout",
     "output_type": "stream",
     "text": [
      "<class 'pandas.core.frame.DataFrame'>\n",
      "Index: 5782 entries, 1 to 82\n",
      "Data columns (total 5 columns):\n",
      " #   Column             Non-Null Count  Dtype \n",
      "---  ------             --------------  ----- \n",
      " 0   release_date       5782 non-null   object\n",
      " 1   movie              5782 non-null   object\n",
      " 2   production_budget  5782 non-null   object\n",
      " 3   domestic_gross     5782 non-null   object\n",
      " 4   worldwide_gross    5782 non-null   object\n",
      "dtypes: object(5)\n",
      "memory usage: 271.0+ KB\n",
      "None\n"
     ]
    }
   ],
   "source": [
    "# Displaying information on the dataframe.\n",
    "\n",
    "print(movie_budget.info())"
   ]
  },
  {
   "cell_type": "markdown",
   "metadata": {},
   "source": [
    "***\n",
    "### Understanding and describing the data\n",
    "\n",
    "After previewing the data we can say that:\n",
    "1. Within the im.db database\n",
    "    * The primary key for both the `movie_basics` and `movie_ratings` is the `movie_id`\n",
    "    * The two tables both contain columns with strings,integers and floats\n",
    "    * Within the `movie_basics` table,there are some missing values in the `original_title`, `runtime_minutes` and `genres` columns.\n",
    "    * The `movie_ratings` table has no missing values but it has has about a half as many entries as `movie_basics`\n",
    "\n",
    "2. Within the `gross_bom` and `movie_budget` tables:\n",
    "    * The some of the columns in the `gross_bom` contain missing values and the `foreign_gross` is set to the wrong datatype\n",
    "    * The data in the `gross_bom` is only limited from 2010 to 2018\n",
    "    * The `movie_budget` table contains no missing values however the `production_budget`, `domestic_gross` and `worlwide_gross` columns are of the wrong data type.\n",
    "***"
   ]
  },
  {
   "cell_type": "markdown",
   "metadata": {},
   "source": [
    "## Data Preparation\n",
    "\n",
    "As described above there are various things that are required to prepare the data for analysis:\n",
    "1. Join the `movie_basics` to the `movie_ratings` column using the `INNER JOIN` method\n",
    "2. Drop the rows with no runtime.\n",
    "3. Drop the rows containing missing values in `genres`\n",
    "4. For the purpose of data modelling we need to drop rows with less than 1000 reviews to avoid skewed data and outliers.This can be done when we combine the `movie_basics` and `movie_ratings` tables\n",
    "5. Set the correct data types in the `gross_bom` and `movie_budget` columns.\n",
    "6. Create a column in the `gross_bom` that sums both the domestic and foreign gross columns.\n",
    "7. Group data after joining the relevant `movie_basics` and `movie_ratings` columns by genre.\n",
    "***"
   ]
  },
  {
   "cell_type": "markdown",
   "metadata": {},
   "source": [
    "### 1. Data Cleaning."
   ]
  },
  {
   "cell_type": "markdown",
   "metadata": {},
   "source": [
    "#### For the `im.db` database.\n",
    "\n",
    "* First step is to join the tables in the `im.db` database into a singular dataframe then order by ratings and then number of votes."
   ]
  },
  {
   "cell_type": "code",
   "execution_count": 11,
   "metadata": {},
   "outputs": [
    {
     "data": {
      "text/html": [
       "<div>\n",
       "<style scoped>\n",
       "    .dataframe tbody tr th:only-of-type {\n",
       "        vertical-align: middle;\n",
       "    }\n",
       "\n",
       "    .dataframe tbody tr th {\n",
       "        vertical-align: top;\n",
       "    }\n",
       "\n",
       "    .dataframe thead th {\n",
       "        text-align: right;\n",
       "    }\n",
       "</style>\n",
       "<table border=\"1\" class=\"dataframe\">\n",
       "  <thead>\n",
       "    <tr style=\"text-align: right;\">\n",
       "      <th></th>\n",
       "      <th>movie_id</th>\n",
       "      <th>averagerating</th>\n",
       "      <th>numvotes</th>\n",
       "      <th>primary_title</th>\n",
       "      <th>runtime_minutes</th>\n",
       "      <th>genres</th>\n",
       "    </tr>\n",
       "  </thead>\n",
       "  <tbody>\n",
       "    <tr>\n",
       "      <th>0</th>\n",
       "      <td>tt7131622</td>\n",
       "      <td>9.7</td>\n",
       "      <td>5600</td>\n",
       "      <td>Once Upon a Time ... in Hollywood</td>\n",
       "      <td>159.0</td>\n",
       "      <td>Comedy,Drama</td>\n",
       "    </tr>\n",
       "    <tr>\n",
       "      <th>1</th>\n",
       "      <td>tt4131686</td>\n",
       "      <td>9.6</td>\n",
       "      <td>1339</td>\n",
       "      <td>I Want to Live</td>\n",
       "      <td>106.0</td>\n",
       "      <td>Adventure,Biography,Documentary</td>\n",
       "    </tr>\n",
       "    <tr>\n",
       "      <th>2</th>\n",
       "      <td>tt6058226</td>\n",
       "      <td>9.6</td>\n",
       "      <td>2604</td>\n",
       "      <td>Ekvtime: Man of God</td>\n",
       "      <td>132.0</td>\n",
       "      <td>Biography,Drama,History</td>\n",
       "    </tr>\n",
       "    <tr>\n",
       "      <th>3</th>\n",
       "      <td>tt5963218</td>\n",
       "      <td>9.5</td>\n",
       "      <td>6509</td>\n",
       "      <td>Aloko Udapadi</td>\n",
       "      <td>113.0</td>\n",
       "      <td>Drama,History</td>\n",
       "    </tr>\n",
       "    <tr>\n",
       "      <th>4</th>\n",
       "      <td>tt7738784</td>\n",
       "      <td>9.4</td>\n",
       "      <td>9629</td>\n",
       "      <td>Peranbu</td>\n",
       "      <td>147.0</td>\n",
       "      <td>Drama</td>\n",
       "    </tr>\n",
       "  </tbody>\n",
       "</table>\n",
       "</div>"
      ],
      "text/plain": [
       "    movie_id  averagerating  numvotes                      primary_title  \\\n",
       "0  tt7131622            9.7      5600  Once Upon a Time ... in Hollywood   \n",
       "1  tt4131686            9.6      1339                     I Want to Live   \n",
       "2  tt6058226            9.6      2604                Ekvtime: Man of God   \n",
       "3  tt5963218            9.5      6509                      Aloko Udapadi   \n",
       "4  tt7738784            9.4      9629                            Peranbu   \n",
       "\n",
       "   runtime_minutes                           genres  \n",
       "0            159.0                     Comedy,Drama  \n",
       "1            106.0  Adventure,Biography,Documentary  \n",
       "2            132.0          Biography,Drama,History  \n",
       "3            113.0                    Drama,History  \n",
       "4            147.0                            Drama  "
      ]
     },
     "execution_count": 11,
     "metadata": {},
     "output_type": "execute_result"
    }
   ],
   "source": [
    "# Using SQL syntax to join tables.\n",
    "\n",
    "names_and_ratings = '''SELECT movie_id, averagerating, numvotes, primary_title, runtime_minutes, genres\n",
    "                        FROM movie_ratings\n",
    "                        JOIN movie_basics\n",
    "                        USING (movie_id)\n",
    "                        WHERE numvotes >= 1000\n",
    "                        ORDER BY averagerating DESC, numvotes;'''\n",
    "\n",
    "# Converting into a dataframe and reading the first 5 rows\n",
    "\n",
    "names_and_ratings_df = pd.read_sql(names_and_ratings, conn)\n",
    "names_and_ratings_df.head()\n"
   ]
  },
  {
   "cell_type": "markdown",
   "metadata": {},
   "source": [
    "* Then we look into the information of the dataframe to confirm the join was successful."
   ]
  },
  {
   "cell_type": "code",
   "execution_count": 12,
   "metadata": {},
   "outputs": [
    {
     "name": "stdout",
     "output_type": "stream",
     "text": [
      "<class 'pandas.core.frame.DataFrame'>\n",
      "RangeIndex: 9617 entries, 0 to 9616\n",
      "Data columns (total 6 columns):\n",
      " #   Column           Non-Null Count  Dtype  \n",
      "---  ------           --------------  -----  \n",
      " 0   movie_id         9617 non-null   object \n",
      " 1   averagerating    9617 non-null   float64\n",
      " 2   numvotes         9617 non-null   int64  \n",
      " 3   primary_title    9617 non-null   object \n",
      " 4   runtime_minutes  9609 non-null   float64\n",
      " 5   genres           9615 non-null   object \n",
      "dtypes: float64(2), int64(1), object(3)\n",
      "memory usage: 450.9+ KB\n"
     ]
    }
   ],
   "source": [
    "# Using pandas to read into the information\n",
    "names_and_ratings_df.info()"
   ]
  },
  {
   "cell_type": "markdown",
   "metadata": {},
   "source": [
    "* Now we can drop rows that contain missing values in the runtime and genres columns.For this, in the interest of saving time, we can create a function thet can solve for both."
   ]
  },
  {
   "cell_type": "code",
   "execution_count": 13,
   "metadata": {},
   "outputs": [],
   "source": [
    "# Creating a function to drop missing values in a column.\n",
    "\n",
    "def drop_rows_with_missing_values(df, column_name):\n",
    "    '''Removes rows from a pandas DataFrame where a specified column has empty or missing values.\n",
    "\n",
    "    Args:\n",
    "        df: The pandas DataFrame to process.\n",
    "        column_name: The name of the column to check for empty values.\n",
    "\n",
    "    Returns:\n",
    "        A DataFrame with rows removed.'''\n",
    "    return df.dropna(subset=column_name)"
   ]
  },
  {
   "cell_type": "code",
   "execution_count": 14,
   "metadata": {},
   "outputs": [],
   "source": [
    "# Applying the function to drop the missing runtime values.\n",
    "\n",
    "names_and_ratings_df = drop_rows_with_missing_values(names_and_ratings_df, 'runtime_minutes')"
   ]
  },
  {
   "cell_type": "code",
   "execution_count": 15,
   "metadata": {},
   "outputs": [],
   "source": [
    "# Reapeating the process for genres\n",
    "\n",
    "names_and_ratings_df = drop_rows_with_missing_values(names_and_ratings_df, 'genres')"
   ]
  },
  {
   "cell_type": "markdown",
   "metadata": {},
   "source": [
    "* Now when we use the `.info()` method to check for missing values.The number of entries across the columns should be the same."
   ]
  },
  {
   "cell_type": "code",
   "execution_count": 16,
   "metadata": {},
   "outputs": [
    {
     "name": "stdout",
     "output_type": "stream",
     "text": [
      "<class 'pandas.core.frame.DataFrame'>\n",
      "Index: 9607 entries, 0 to 9616\n",
      "Data columns (total 6 columns):\n",
      " #   Column           Non-Null Count  Dtype  \n",
      "---  ------           --------------  -----  \n",
      " 0   movie_id         9607 non-null   object \n",
      " 1   averagerating    9607 non-null   float64\n",
      " 2   numvotes         9607 non-null   int64  \n",
      " 3   primary_title    9607 non-null   object \n",
      " 4   runtime_minutes  9607 non-null   float64\n",
      " 5   genres           9607 non-null   object \n",
      "dtypes: float64(2), int64(1), object(3)\n",
      "memory usage: 525.4+ KB\n"
     ]
    }
   ],
   "source": [
    "names_and_ratings_df.info()"
   ]
  },
  {
   "cell_type": "markdown",
   "metadata": {},
   "source": [
    "* Now we have to group the data based on genre. The column shows for some entries, more than one genre is indicated thus we have to create separate the genre entries into separate columns in each row.This will allow is to model the data later in the analysis."
   ]
  },
  {
   "cell_type": "code",
   "execution_count": 17,
   "metadata": {},
   "outputs": [
    {
     "data": {
      "text/html": [
       "<div>\n",
       "<style scoped>\n",
       "    .dataframe tbody tr th:only-of-type {\n",
       "        vertical-align: middle;\n",
       "    }\n",
       "\n",
       "    .dataframe tbody tr th {\n",
       "        vertical-align: top;\n",
       "    }\n",
       "\n",
       "    .dataframe thead th {\n",
       "        text-align: right;\n",
       "    }\n",
       "</style>\n",
       "<table border=\"1\" class=\"dataframe\">\n",
       "  <thead>\n",
       "    <tr style=\"text-align: right;\">\n",
       "      <th></th>\n",
       "      <th>movie_id</th>\n",
       "      <th>averagerating</th>\n",
       "      <th>numvotes</th>\n",
       "      <th>primary_title</th>\n",
       "      <th>runtime_minutes</th>\n",
       "      <th>genres</th>\n",
       "      <th>genres_list</th>\n",
       "      <th>genre_1</th>\n",
       "      <th>genre_2</th>\n",
       "      <th>genre_3</th>\n",
       "    </tr>\n",
       "  </thead>\n",
       "  <tbody>\n",
       "    <tr>\n",
       "      <th>0</th>\n",
       "      <td>tt7131622</td>\n",
       "      <td>9.7</td>\n",
       "      <td>5600</td>\n",
       "      <td>Once Upon a Time ... in Hollywood</td>\n",
       "      <td>159.0</td>\n",
       "      <td>Comedy,Drama</td>\n",
       "      <td>[Comedy, Drama]</td>\n",
       "      <td>Comedy</td>\n",
       "      <td>Drama</td>\n",
       "      <td>None</td>\n",
       "    </tr>\n",
       "    <tr>\n",
       "      <th>1</th>\n",
       "      <td>tt4131686</td>\n",
       "      <td>9.6</td>\n",
       "      <td>1339</td>\n",
       "      <td>I Want to Live</td>\n",
       "      <td>106.0</td>\n",
       "      <td>Adventure,Biography,Documentary</td>\n",
       "      <td>[Adventure, Biography, Documentary]</td>\n",
       "      <td>Adventure</td>\n",
       "      <td>Biography</td>\n",
       "      <td>Documentary</td>\n",
       "    </tr>\n",
       "    <tr>\n",
       "      <th>2</th>\n",
       "      <td>tt6058226</td>\n",
       "      <td>9.6</td>\n",
       "      <td>2604</td>\n",
       "      <td>Ekvtime: Man of God</td>\n",
       "      <td>132.0</td>\n",
       "      <td>Biography,Drama,History</td>\n",
       "      <td>[Biography, Drama, History]</td>\n",
       "      <td>Biography</td>\n",
       "      <td>Drama</td>\n",
       "      <td>History</td>\n",
       "    </tr>\n",
       "    <tr>\n",
       "      <th>3</th>\n",
       "      <td>tt5963218</td>\n",
       "      <td>9.5</td>\n",
       "      <td>6509</td>\n",
       "      <td>Aloko Udapadi</td>\n",
       "      <td>113.0</td>\n",
       "      <td>Drama,History</td>\n",
       "      <td>[Drama, History]</td>\n",
       "      <td>Drama</td>\n",
       "      <td>History</td>\n",
       "      <td>None</td>\n",
       "    </tr>\n",
       "    <tr>\n",
       "      <th>4</th>\n",
       "      <td>tt7738784</td>\n",
       "      <td>9.4</td>\n",
       "      <td>9629</td>\n",
       "      <td>Peranbu</td>\n",
       "      <td>147.0</td>\n",
       "      <td>Drama</td>\n",
       "      <td>[Drama]</td>\n",
       "      <td>Drama</td>\n",
       "      <td>None</td>\n",
       "      <td>None</td>\n",
       "    </tr>\n",
       "  </tbody>\n",
       "</table>\n",
       "</div>"
      ],
      "text/plain": [
       "    movie_id  averagerating  numvotes                      primary_title  \\\n",
       "0  tt7131622            9.7      5600  Once Upon a Time ... in Hollywood   \n",
       "1  tt4131686            9.6      1339                     I Want to Live   \n",
       "2  tt6058226            9.6      2604                Ekvtime: Man of God   \n",
       "3  tt5963218            9.5      6509                      Aloko Udapadi   \n",
       "4  tt7738784            9.4      9629                            Peranbu   \n",
       "\n",
       "   runtime_minutes                           genres  \\\n",
       "0            159.0                     Comedy,Drama   \n",
       "1            106.0  Adventure,Biography,Documentary   \n",
       "2            132.0          Biography,Drama,History   \n",
       "3            113.0                    Drama,History   \n",
       "4            147.0                            Drama   \n",
       "\n",
       "                           genres_list    genre_1    genre_2      genre_3  \n",
       "0                      [Comedy, Drama]     Comedy      Drama         None  \n",
       "1  [Adventure, Biography, Documentary]  Adventure  Biography  Documentary  \n",
       "2          [Biography, Drama, History]  Biography      Drama      History  \n",
       "3                     [Drama, History]      Drama    History         None  \n",
       "4                              [Drama]      Drama       None         None  "
      ]
     },
     "execution_count": 17,
     "metadata": {},
     "output_type": "execute_result"
    }
   ],
   "source": [
    "# Striping the strings in genres and assigning it to different columns.\n",
    "\n",
    "# Strip whitespace and split the 'genres' column into a list of genres\n",
    "names_and_ratings_df['genres'] = names_and_ratings_df['genres'].str.strip()  # Remove leading and trailing whitespace\n",
    "names_and_ratings_df['genres_list'] = names_and_ratings_df['genres'].str.split(',')  # Split the genres into a list using ',' as the delimiter\n",
    "\n",
    "# Assign split genres to new columns\n",
    "# Determine the maximum number of genres in any row\n",
    "max_genres = names_and_ratings_df['genres_list'].apply(len).max()\n",
    "\n",
    "# Create new columns for each genre\n",
    "for i in range(max_genres):\n",
    "    names_and_ratings_df[f'genre_{i+1}'] = names_and_ratings_df['genres_list'].apply(lambda x: x[i] if i < len(x) else None)\n",
    "\n",
    "# Display the updated DataFrame to verify the new columns\n",
    "names_and_ratings_df.head()\n"
   ]
  },
  {
   "cell_type": "markdown",
   "metadata": {},
   "source": [
    "* We can now drop the `genres` and `genres_list` columns as they are redundant."
   ]
  },
  {
   "cell_type": "code",
   "execution_count": 18,
   "metadata": {},
   "outputs": [
    {
     "name": "stdout",
     "output_type": "stream",
     "text": [
      "<class 'pandas.core.frame.DataFrame'>\n",
      "Index: 9607 entries, 0 to 9616\n",
      "Data columns (total 8 columns):\n",
      " #   Column           Non-Null Count  Dtype  \n",
      "---  ------           --------------  -----  \n",
      " 0   movie_id         9607 non-null   object \n",
      " 1   averagerating    9607 non-null   float64\n",
      " 2   numvotes         9607 non-null   int64  \n",
      " 3   primary_title    9607 non-null   object \n",
      " 4   runtime_minutes  9607 non-null   float64\n",
      " 5   genre_1          9607 non-null   object \n",
      " 6   genre_2          7584 non-null   object \n",
      " 7   genre_3          4602 non-null   object \n",
      "dtypes: float64(2), int64(1), object(5)\n",
      "memory usage: 675.5+ KB\n"
     ]
    }
   ],
   "source": [
    "names_and_ratings_df.drop(columns=['genres','genres_list'], inplace=True)\n",
    "names_and_ratings_df.info()"
   ]
  },
  {
   "cell_type": "markdown",
   "metadata": {},
   "source": [
    "#### For the `gross_bom` table:\n",
    "\n",
    "* We need to convert the `foreign_gross` from an object to a float to perform numerical operations and for feature engineering."
   ]
  },
  {
   "cell_type": "code",
   "execution_count": 19,
   "metadata": {},
   "outputs": [
    {
     "name": "stdout",
     "output_type": "stream",
     "text": [
      "<class 'pandas.core.frame.DataFrame'>\n",
      "RangeIndex: 3387 entries, 0 to 3386\n",
      "Data columns (total 5 columns):\n",
      " #   Column          Non-Null Count  Dtype  \n",
      "---  ------          --------------  -----  \n",
      " 0   title           3387 non-null   object \n",
      " 1   studio          3382 non-null   object \n",
      " 2   domestic_gross  3359 non-null   float64\n",
      " 3   foreign_gross   3387 non-null   float64\n",
      " 4   year            3387 non-null   int64  \n",
      "dtypes: float64(2), int64(1), object(2)\n",
      "memory usage: 132.4+ KB\n"
     ]
    }
   ],
   "source": [
    "# To change all values in the column from a string to a number and replaces null values with 0\n",
    "gross_bom['foreign_gross'] = pd.to_numeric(gross_bom['foreign_gross'], errors='coerce').fillna(0)\n",
    "gross_bom.info()"
   ]
  },
  {
   "cell_type": "markdown",
   "metadata": {},
   "source": [
    "* We then need to relace the null values in `domestic_gross` with 0"
   ]
  },
  {
   "cell_type": "code",
   "execution_count": 20,
   "metadata": {},
   "outputs": [
    {
     "name": "stdout",
     "output_type": "stream",
     "text": [
      "<class 'pandas.core.frame.DataFrame'>\n",
      "RangeIndex: 3387 entries, 0 to 3386\n",
      "Data columns (total 5 columns):\n",
      " #   Column          Non-Null Count  Dtype  \n",
      "---  ------          --------------  -----  \n",
      " 0   title           3387 non-null   object \n",
      " 1   studio          3382 non-null   object \n",
      " 2   domestic_gross  3387 non-null   float64\n",
      " 3   foreign_gross   3387 non-null   float64\n",
      " 4   year            3387 non-null   int64  \n",
      "dtypes: float64(2), int64(1), object(2)\n",
      "memory usage: 132.4+ KB\n"
     ]
    }
   ],
   "source": [
    "gross_bom['domestic_gross'] = gross_bom['domestic_gross'].fillna(0)\n",
    "gross_bom.info()"
   ]
  },
  {
   "cell_type": "markdown",
   "metadata": {},
   "source": [
    "* Create a column that calculates `total_pay` which is a sum of `domestic_gross` and `foreign_gross`"
   ]
  },
  {
   "cell_type": "code",
   "execution_count": 21,
   "metadata": {},
   "outputs": [
    {
     "name": "stdout",
     "output_type": "stream",
     "text": [
      "<class 'pandas.core.frame.DataFrame'>\n",
      "RangeIndex: 3387 entries, 0 to 3386\n",
      "Data columns (total 6 columns):\n",
      " #   Column          Non-Null Count  Dtype  \n",
      "---  ------          --------------  -----  \n",
      " 0   title           3387 non-null   object \n",
      " 1   studio          3382 non-null   object \n",
      " 2   domestic_gross  3387 non-null   float64\n",
      " 3   foreign_gross   3387 non-null   float64\n",
      " 4   year            3387 non-null   int64  \n",
      " 5   total_pay       3387 non-null   float64\n",
      "dtypes: float64(3), int64(1), object(2)\n",
      "memory usage: 158.9+ KB\n"
     ]
    }
   ],
   "source": [
    "gross_bom['total_pay'] = gross_bom['domestic_gross'] + gross_bom['foreign_gross']\n",
    "gross_bom.info()\n"
   ]
  },
  {
   "cell_type": "markdown",
   "metadata": {},
   "source": [
    "* Finally we can drop rows with no studio entry."
   ]
  },
  {
   "cell_type": "code",
   "execution_count": 22,
   "metadata": {},
   "outputs": [
    {
     "name": "stdout",
     "output_type": "stream",
     "text": [
      "<class 'pandas.core.frame.DataFrame'>\n",
      "Index: 3382 entries, 0 to 3386\n",
      "Data columns (total 6 columns):\n",
      " #   Column          Non-Null Count  Dtype  \n",
      "---  ------          --------------  -----  \n",
      " 0   title           3382 non-null   object \n",
      " 1   studio          3382 non-null   object \n",
      " 2   domestic_gross  3382 non-null   float64\n",
      " 3   foreign_gross   3382 non-null   float64\n",
      " 4   year            3382 non-null   int64  \n",
      " 5   total_pay       3382 non-null   float64\n",
      "dtypes: float64(3), int64(1), object(2)\n",
      "memory usage: 185.0+ KB\n"
     ]
    }
   ],
   "source": [
    "# Drop rows of movies not produced by a studio.\n",
    "gross_bom = gross_bom.dropna(subset= 'studio')\n",
    "gross_bom.info()"
   ]
  },
  {
   "cell_type": "markdown",
   "metadata": {},
   "source": [
    "#### For the `movie_budget` table:\n",
    "* We need to change the `production_budget` , `domestic_gross` and `worldwide_gross` columns to a numeric type then add a column that calculates the `profit` which is the differnce between `worldwide_gross` and `production_budget`.\n",
    "* We will then sort it into decending order of `worldwide_gross`"
   ]
  },
  {
   "cell_type": "code",
   "execution_count": 28,
   "metadata": {},
   "outputs": [
    {
     "name": "stderr",
     "output_type": "stream",
     "text": [
      "<>:3: SyntaxWarning: invalid escape sequence '\\$'\n",
      "<>:4: SyntaxWarning: invalid escape sequence '\\$'\n",
      "<>:5: SyntaxWarning: invalid escape sequence '\\$'\n",
      "<>:3: SyntaxWarning: invalid escape sequence '\\$'\n",
      "<>:4: SyntaxWarning: invalid escape sequence '\\$'\n",
      "<>:5: SyntaxWarning: invalid escape sequence '\\$'\n",
      "C:\\Users\\eugene.maina\\AppData\\Local\\Temp\\ipykernel_22600\\3742640961.py:3: SyntaxWarning: invalid escape sequence '\\$'\n",
      "  movie_budget['domestic_gross'] = pd.to_numeric(movie_budget['domestic_gross'].replace('[\\$,]', '', regex=True), errors='coerce')\n",
      "C:\\Users\\eugene.maina\\AppData\\Local\\Temp\\ipykernel_22600\\3742640961.py:4: SyntaxWarning: invalid escape sequence '\\$'\n",
      "  movie_budget['production_budget'] = pd.to_numeric(movie_budget['production_budget'].replace('[\\$,]', '', regex=True), errors='coerce')\n",
      "C:\\Users\\eugene.maina\\AppData\\Local\\Temp\\ipykernel_22600\\3742640961.py:5: SyntaxWarning: invalid escape sequence '\\$'\n",
      "  movie_budget['worldwide_gross'] = pd.to_numeric(movie_budget['worldwide_gross'].replace('[\\$,]', '', regex=True), errors='coerce')\n"
     ]
    },
    {
     "data": {
      "text/html": [
       "<div>\n",
       "<style scoped>\n",
       "    .dataframe tbody tr th:only-of-type {\n",
       "        vertical-align: middle;\n",
       "    }\n",
       "\n",
       "    .dataframe tbody tr th {\n",
       "        vertical-align: top;\n",
       "    }\n",
       "\n",
       "    .dataframe thead th {\n",
       "        text-align: right;\n",
       "    }\n",
       "</style>\n",
       "<table border=\"1\" class=\"dataframe\">\n",
       "  <thead>\n",
       "    <tr style=\"text-align: right;\">\n",
       "      <th></th>\n",
       "      <th>release_date</th>\n",
       "      <th>movie</th>\n",
       "      <th>production_budget</th>\n",
       "      <th>domestic_gross</th>\n",
       "      <th>worldwide_gross</th>\n",
       "      <th>profit</th>\n",
       "    </tr>\n",
       "    <tr>\n",
       "      <th>id</th>\n",
       "      <th></th>\n",
       "      <th></th>\n",
       "      <th></th>\n",
       "      <th></th>\n",
       "      <th></th>\n",
       "      <th></th>\n",
       "    </tr>\n",
       "  </thead>\n",
       "  <tbody>\n",
       "    <tr>\n",
       "      <th>1</th>\n",
       "      <td>Dec 18, 2009</td>\n",
       "      <td>Avatar</td>\n",
       "      <td>425000000</td>\n",
       "      <td>760507625</td>\n",
       "      <td>2776345279</td>\n",
       "      <td>2351345279</td>\n",
       "    </tr>\n",
       "    <tr>\n",
       "      <th>43</th>\n",
       "      <td>Dec 19, 1997</td>\n",
       "      <td>Titanic</td>\n",
       "      <td>200000000</td>\n",
       "      <td>659363944</td>\n",
       "      <td>2208208395</td>\n",
       "      <td>2008208395</td>\n",
       "    </tr>\n",
       "    <tr>\n",
       "      <th>6</th>\n",
       "      <td>Dec 18, 2015</td>\n",
       "      <td>Star Wars Ep. VII: The Force Awakens</td>\n",
       "      <td>306000000</td>\n",
       "      <td>936662225</td>\n",
       "      <td>2053311220</td>\n",
       "      <td>1747311220</td>\n",
       "    </tr>\n",
       "    <tr>\n",
       "      <th>7</th>\n",
       "      <td>Apr 27, 2018</td>\n",
       "      <td>Avengers: Infinity War</td>\n",
       "      <td>300000000</td>\n",
       "      <td>678815482</td>\n",
       "      <td>2048134200</td>\n",
       "      <td>1748134200</td>\n",
       "    </tr>\n",
       "    <tr>\n",
       "      <th>34</th>\n",
       "      <td>Jun 12, 2015</td>\n",
       "      <td>Jurassic World</td>\n",
       "      <td>215000000</td>\n",
       "      <td>652270625</td>\n",
       "      <td>1648854864</td>\n",
       "      <td>1433854864</td>\n",
       "    </tr>\n",
       "  </tbody>\n",
       "</table>\n",
       "</div>"
      ],
      "text/plain": [
       "    release_date                                 movie  production_budget  \\\n",
       "id                                                                          \n",
       "1   Dec 18, 2009                                Avatar          425000000   \n",
       "43  Dec 19, 1997                               Titanic          200000000   \n",
       "6   Dec 18, 2015  Star Wars Ep. VII: The Force Awakens          306000000   \n",
       "7   Apr 27, 2018                Avengers: Infinity War          300000000   \n",
       "34  Jun 12, 2015                        Jurassic World          215000000   \n",
       "\n",
       "    domestic_gross  worldwide_gross      profit  \n",
       "id                                               \n",
       "1        760507625       2776345279  2351345279  \n",
       "43       659363944       2208208395  2008208395  \n",
       "6        936662225       2053311220  1747311220  \n",
       "7        678815482       2048134200  1748134200  \n",
       "34       652270625       1648854864  1433854864  "
      ]
     },
     "execution_count": 28,
     "metadata": {},
     "output_type": "execute_result"
    }
   ],
   "source": [
    "# Converting the columns to numeric datatype\n",
    "\n",
    "movie_budget['domestic_gross'] = pd.to_numeric(movie_budget['domestic_gross'].replace('[\\$,]', '', regex=True), errors='coerce')\n",
    "movie_budget['production_budget'] = pd.to_numeric(movie_budget['production_budget'].replace('[\\$,]', '', regex=True), errors='coerce')\n",
    "movie_budget['worldwide_gross'] = pd.to_numeric(movie_budget['worldwide_gross'].replace('[\\$,]', '', regex=True), errors='coerce')\n",
    "\n",
    "# Create a column that calculates profit\n",
    "\n",
    "movie_budget['profit'] = movie_budget['worldwide_gross'] - movie_budget['production_budget']\n",
    "\n",
    "# Sort table in decending order of woldwide_gross \n",
    "\n",
    "movie_budget.sort_values(by ='worldwide_gross', ascending =False, inplace=True)\n",
    "\n",
    "# Display the first 5 rows\n",
    "movie_budget.head()"
   ]
  },
  {
   "cell_type": "markdown",
   "metadata": {},
   "source": [
    "### 2.Feature engineering\n",
    "* First thing is to group the `gross_bom` table by studio then sort them from highest to lowest `total_gross`\n"
   ]
  },
  {
   "cell_type": "code",
   "execution_count": null,
   "metadata": {},
   "outputs": [
    {
     "name": "stdout",
     "output_type": "stream",
     "text": [
      "  studio  domestic_gross  foreign_gross\n",
      "0     3D       6100000.0      9900000.0\n",
      "1    A23        164200.0            0.0\n",
      "2    A24     324194200.0    238462200.0\n",
      "3    ADC        248200.0            0.0\n",
      "4     AF       2142900.0      3500000.0\n"
     ]
    }
   ],
   "source": [
    "# Creating a dataframe that groups movies based on studio.\n",
    "studio = gross_bom.groupby('studio').agg({\n",
    "\t                                'domestic_gross': 'sum',\n",
    "\t                                'foreign_gross': 'sum'\n",
    "                                }).reset_index()\n",
    "\n",
    "# Displaying the grouped dataframe\n",
    "print(studio.head())"
   ]
  },
  {
   "cell_type": "markdown",
   "metadata": {},
   "source": [
    "## Data Modelling"
   ]
  },
  {
   "cell_type": "markdown",
   "metadata": {},
   "source": [
    "## Evaluation"
   ]
  },
  {
   "cell_type": "markdown",
   "metadata": {},
   "source": [
    "## Conclusions"
   ]
  },
  {
   "cell_type": "markdown",
   "metadata": {},
   "source": []
  }
 ],
 "metadata": {
  "kernelspec": {
   "display_name": "base",
   "language": "python",
   "name": "python3"
  },
  "language_info": {
   "codemirror_mode": {
    "name": "ipython",
    "version": 3
   },
   "file_extension": ".py",
   "mimetype": "text/x-python",
   "name": "python",
   "nbconvert_exporter": "python",
   "pygments_lexer": "ipython3",
   "version": "3.12.7"
  }
 },
 "nbformat": 4,
 "nbformat_minor": 2
}
