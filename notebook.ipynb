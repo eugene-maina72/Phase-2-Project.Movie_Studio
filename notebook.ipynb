{
 "cells": [
  {
   "cell_type": "markdown",
   "metadata": {},
   "source": [
    "<img src = \"images\\What-does-a-film-studio-do.jpg\">\n",
    "\n",
    "# Assessing the Commercial viability of a new movie studio for original content creation.\n",
    "\n",
    "***"
   ]
  },
  {
   "cell_type": "markdown",
   "metadata": {},
   "source": [
    "## Overview\n",
    "\n",
    "The project has been undertaken to assess the commercial viablity of setting up a movie studio for original content creation and to determine the most profitable and promising film genre that the studio can create to achieve the objectives of profit maximization,business reputation growth and wealth creation for its shareholders.\n",
    "***"
   ]
  },
  {
   "cell_type": "markdown",
   "metadata": {},
   "source": [
    "### Business Problem\n",
    "\n",
    "<img src = \"images\\moringa_clips.jpeg\" width=\"300\">\n",
    "\n",
    "Moringa Clips is a web video service company that wants to join the original content creation space and have decided to set up their own movie studio to achieve this.They have no experience in film production.In order to determine what type of films the studio should create, we have to conduct an exploratory data analysis on data collected from various review websites to generate insights that will guide the film production team on the way to go about the new project. \n",
    "\n",
    "The target audience of this project is as follows:\n",
    "* The creative director of the film studio.\n",
    "* Company shareholders.\n",
    "* Financial insitutions providing Credit facilities to production companies.\n",
    "* The finance department of the company.\n",
    "\n",
    "The key objective questions are as follows:\n",
    "1. What movie genre generates the highest ratings in box-offices?\n",
    "\n",
    "2. What is the most profitable genre of films when we compare movie budget to gross income at box office?\n",
    "\n",
    "3. Does a higher movie budget guarantee a higher box office gross income?\n",
    "\n",
    "4. Which existing movie studios generate the highest box office gross and what type of movies do they create?\n",
    "5. Do movie ratings correlate with gross box office numbers?\n",
    "6. Are movie ratings determined by the movie budget?   \n",
    "***"
   ]
  },
  {
   "cell_type": "markdown",
   "metadata": {},
   "source": [
    "## Data Understanding"
   ]
  },
  {
   "cell_type": "markdown",
   "metadata": {},
   "source": [
    "### The Data\n",
    "\n",
    "In the folder `data` are movie datasets from:\n",
    "\n",
    "* [Box Office Mojo](https://www.boxofficemojo.com/)\n",
    "* [IMDB](https://www.imdb.com/)\n",
    "* [Rotten Tomatoes](https://www.rottentomatoes.com/)\n",
    "* [TheMovieDB](https://www.themoviedb.org/)\n",
    "* [The Numbers](https://www.the-numbers.com/)\n",
    "\n",
    "Because it was collected from various locations, the different files have different formats. Some are compressed CSV (comma-separated values) or TSV (tab-separated values) and then there is a IMDB database.\n",
    "\n",
    "The IMDB database Entity Relationship Diagram is as follows:\n",
    "\n",
    "![movie data erd](https://raw.githubusercontent.com/learn-co-curriculum/dsc-phase-2-project-v3/main/movie_data_erd.jpeg)"
   ]
  },
  {
   "cell_type": "markdown",
   "metadata": {},
   "source": [
    "### Loading the relevant packages"
   ]
  },
  {
   "cell_type": "code",
   "execution_count": null,
   "metadata": {},
   "outputs": [],
   "source": [
    "# Importing the nessesary libraries\n",
    "from math import * #Makes basic math operations easier\n",
    "from itertools import * # Makes grouping within a noebook easier.\n",
    "from collections import * #To make count operations easier\n",
    "import sqlite3 # To read into the database\n",
    "import pandas as pd\n",
    "import scipy.stats as stats #For statistical operations(Hypothesis testing)\n",
    "import matplotlib.pyplot as plt# Plotting data\n",
    "import seaborn as sns\n",
    "import numpy as np # For numerical operations\n",
    "import statsmodels.api as sm # For regression equations\n",
    "plt.style.use('seaborn-v0_8-whitegrid') #Setting the style for the regression plots\n",
    "\n",
    "%matplotlib inline"
   ]
  },
  {
   "cell_type": "markdown",
   "metadata": {},
   "source": [
    "### Connecting and reading through `im.db` database.\n",
    "* For the project we are mostly concerned with the `movie_basics` and `movie_ratings` tables however,as we are working through the analysis we may read through other tables."
   ]
  },
  {
   "cell_type": "code",
   "execution_count": 16,
   "metadata": {},
   "outputs": [],
   "source": [
    "#Connecting into the database using SQL Lite\n",
    "conn = sqlite3.connect(\"data/im.db\")\n",
    "cursor = conn.cursor()\n",
    "\n",
    "#Converting the relevant tables into Dataframes\n",
    "movie_basics = '''SELECT *\n",
    "                    FROM movie_basics;\n",
    "                    '''\n",
    "movie_ratings = '''SELECT *\n",
    "                    FROM movie_ratings;'''\n",
    "\n",
    "movie_basics_df = pd.read_sql(movie_basics, conn)\n",
    "movie_ratings_df = pd.read_sql(movie_ratings, conn)"
   ]
  },
  {
   "cell_type": "code",
   "execution_count": 12,
   "metadata": {},
   "outputs": [
    {
     "name": "stdout",
     "output_type": "stream",
     "text": [
      "    movie_id                    primary_title              original_title  \\\n",
      "0  tt0063540                        Sunghursh                   Sunghursh   \n",
      "1  tt0066787  One Day Before the Rainy Season             Ashad Ka Ek Din   \n",
      "2  tt0069049       The Other Side of the Wind  The Other Side of the Wind   \n",
      "3  tt0069204                  Sabse Bada Sukh             Sabse Bada Sukh   \n",
      "4  tt0100275         The Wandering Soap Opera       La Telenovela Errante   \n",
      "\n",
      "   start_year  runtime_minutes                genres  \n",
      "0        2013            175.0    Action,Crime,Drama  \n",
      "1        2019            114.0       Biography,Drama  \n",
      "2        2018            122.0                 Drama  \n",
      "3        2018              NaN          Comedy,Drama  \n",
      "4        2017             80.0  Comedy,Drama,Fantasy  \n"
     ]
    }
   ],
   "source": [
    "#Displaying the first 5 rows and the information for movie_basics\n",
    "print(movie_basics_df.head())\n"
   ]
  },
  {
   "cell_type": "code",
   "execution_count": 11,
   "metadata": {},
   "outputs": [
    {
     "name": "stdout",
     "output_type": "stream",
     "text": [
      "<class 'pandas.core.frame.DataFrame'>\n",
      "RangeIndex: 146144 entries, 0 to 146143\n",
      "Data columns (total 6 columns):\n",
      " #   Column           Non-Null Count   Dtype  \n",
      "---  ------           --------------   -----  \n",
      " 0   movie_id         146144 non-null  object \n",
      " 1   primary_title    146144 non-null  object \n",
      " 2   original_title   146123 non-null  object \n",
      " 3   start_year       146144 non-null  int64  \n",
      " 4   runtime_minutes  114405 non-null  float64\n",
      " 5   genres           140736 non-null  object \n",
      "dtypes: float64(1), int64(1), object(4)\n",
      "memory usage: 6.7+ MB\n",
      "None\n"
     ]
    }
   ],
   "source": [
    "print(movie_basics_df.info())"
   ]
  },
  {
   "cell_type": "code",
   "execution_count": 9,
   "metadata": {},
   "outputs": [
    {
     "name": "stdout",
     "output_type": "stream",
     "text": [
      "     movie_id  averagerating  numvotes\n",
      "0  tt10356526            8.3        31\n",
      "1  tt10384606            8.9       559\n",
      "2   tt1042974            6.4        20\n",
      "3   tt1043726            4.2     50352\n",
      "4   tt1060240            6.5        21\n"
     ]
    }
   ],
   "source": [
    "# Displaying the first 5 rows of movie_ratings and the info for movie_ratings.\n",
    "\n",
    "print(movie_ratings_df.head())\n",
    "\n"
   ]
  },
  {
   "cell_type": "code",
   "execution_count": 10,
   "metadata": {},
   "outputs": [
    {
     "name": "stdout",
     "output_type": "stream",
     "text": [
      "<class 'pandas.core.frame.DataFrame'>\n",
      "RangeIndex: 73856 entries, 0 to 73855\n",
      "Data columns (total 3 columns):\n",
      " #   Column         Non-Null Count  Dtype  \n",
      "---  ------         --------------  -----  \n",
      " 0   movie_id       73856 non-null  object \n",
      " 1   averagerating  73856 non-null  float64\n",
      " 2   numvotes       73856 non-null  int64  \n",
      "dtypes: float64(1), int64(1), object(1)\n",
      "memory usage: 1.7+ MB\n",
      "None\n"
     ]
    }
   ],
   "source": [
    "print(movie_ratings_df.info())"
   ]
  },
  {
   "cell_type": "markdown",
   "metadata": {},
   "source": [
    "### Loading and reading through the movie budget and gross box office movie CSV files.\n",
    "* This is a nessesary dataset since we are concerned with the commercial viability of building a new studio."
   ]
  },
  {
   "cell_type": "markdown",
   "metadata": {},
   "source": [
    "#### The gross box office movie dataframe"
   ]
  },
  {
   "cell_type": "code",
   "execution_count": 34,
   "metadata": {},
   "outputs": [
    {
     "name": "stdout",
     "output_type": "stream",
     "text": [
      "                                         title studio  domestic_gross  \\\n",
      "0                                  Toy Story 3     BV     415000000.0   \n",
      "1                   Alice in Wonderland (2010)     BV     334200000.0   \n",
      "2  Harry Potter and the Deathly Hallows Part 1     WB     296000000.0   \n",
      "3                                    Inception     WB     292600000.0   \n",
      "4                          Shrek Forever After   P/DW     238700000.0   \n",
      "\n",
      "  foreign_gross  year  \n",
      "0     652000000  2010  \n",
      "1     691300000  2010  \n",
      "2     664300000  2010  \n",
      "3     535700000  2010  \n",
      "4     513900000  2010  \n"
     ]
    }
   ],
   "source": [
    "# Gross Box Office Revenue\n",
    "# Loading and reading through the Gross box office movie dataset.\n",
    "\n",
    "gross_bom = pd.read_csv(\"data/Bom.movie_gross.csv\")\n",
    "\n",
    "#Displaying the first 5 rows\n",
    "print(gross_bom.head())\n"
   ]
  },
  {
   "cell_type": "code",
   "execution_count": 25,
   "metadata": {},
   "outputs": [
    {
     "name": "stdout",
     "output_type": "stream",
     "text": [
      "<class 'pandas.core.frame.DataFrame'>\n",
      "RangeIndex: 3387 entries, 0 to 3386\n",
      "Data columns (total 5 columns):\n",
      " #   Column          Non-Null Count  Dtype  \n",
      "---  ------          --------------  -----  \n",
      " 0   title           3387 non-null   object \n",
      " 1   studio          3382 non-null   object \n",
      " 2   domestic_gross  3359 non-null   float64\n",
      " 3   foreign_gross   2037 non-null   object \n",
      " 4   year            3387 non-null   int64  \n",
      "dtypes: float64(1), int64(1), object(3)\n",
      "memory usage: 132.4+ KB\n",
      "None\n"
     ]
    }
   ],
   "source": [
    "#Displaying the information about the Box Office Gross Revenue\n",
    "print(gross_bom.info())"
   ]
  },
  {
   "cell_type": "markdown",
   "metadata": {},
   "source": [
    "#### The movie budget dataframe"
   ]
  },
  {
   "cell_type": "code",
   "execution_count": 26,
   "metadata": {},
   "outputs": [
    {
     "name": "stdout",
     "output_type": "stream",
     "text": [
      "    release_date                                        movie  \\\n",
      "id                                                              \n",
      "1   Dec 18, 2009                                       Avatar   \n",
      "2   May 20, 2011  Pirates of the Caribbean: On Stranger Tides   \n",
      "3    Jun 7, 2019                                 Dark Phoenix   \n",
      "4    May 1, 2015                      Avengers: Age of Ultron   \n",
      "5   Dec 15, 2017            Star Wars Ep. VIII: The Last Jedi   \n",
      "\n",
      "   production_budget domestic_gross worldwide_gross  \n",
      "id                                                   \n",
      "1       $425,000,000   $760,507,625  $2,776,345,279  \n",
      "2       $410,600,000   $241,063,875  $1,045,663,875  \n",
      "3       $350,000,000    $42,762,350    $149,762,350  \n",
      "4       $330,600,000   $459,005,868  $1,403,013,963  \n",
      "5       $317,000,000   $620,181,382  $1,316,721,747  \n"
     ]
    }
   ],
   "source": [
    "#Loading Dataframe and Displaying first 5 rows\n",
    "movie_budget = pd.read_csv(\"data/tn.movie_budgets.csv\", index_col=\"id\")\n",
    "\n",
    "print(movie_budget.head())"
   ]
  },
  {
   "cell_type": "code",
   "execution_count": 27,
   "metadata": {},
   "outputs": [
    {
     "name": "stdout",
     "output_type": "stream",
     "text": [
      "<class 'pandas.core.frame.DataFrame'>\n",
      "Index: 5782 entries, 1 to 82\n",
      "Data columns (total 5 columns):\n",
      " #   Column             Non-Null Count  Dtype \n",
      "---  ------             --------------  ----- \n",
      " 0   release_date       5782 non-null   object\n",
      " 1   movie              5782 non-null   object\n",
      " 2   production_budget  5782 non-null   object\n",
      " 3   domestic_gross     5782 non-null   object\n",
      " 4   worldwide_gross    5782 non-null   object\n",
      "dtypes: object(5)\n",
      "memory usage: 271.0+ KB\n",
      "None\n"
     ]
    }
   ],
   "source": [
    "# Displaying information on the dataframe.\n",
    "\n",
    "print(movie_budget.info())"
   ]
  },
  {
   "cell_type": "markdown",
   "metadata": {},
   "source": [
    "***\n",
    "### Understanding and describing the data\n",
    "\n",
    "After previewing the data we can say that:\n",
    "1. Within the im.db database\n",
    "    * The primary key for both the `movie_basics` and `movie_ratings` is the `movie_id`\n",
    "    * The two tables both contain columns with strings,integers and floats\n",
    "    * Within the `movie_basics` table,there are some missing values in the `original_title`, `runtime_minutes` and `genres` columns.\n",
    "    * The `movie_ratings` table has no missing values but it has has about a half as many entries as `movie_basics`\n",
    "\n",
    "2. Within the `gross_bom` and `movie_budget` tables:\n",
    "    * The some of the columns in the `gross_bom` contain missing values and the `foreign_gross` is set to the wrong datatype\n",
    "    * The data in the `gross_bom` is only limited from 2010 to 2018\n",
    "    * The `movie_budget` table contains no missing values however the `production_budget`, `domestic_gross` and `worlwide_gross` columns are of the wrong data type.\n",
    "***"
   ]
  },
  {
   "cell_type": "markdown",
   "metadata": {},
   "source": [
    "## Data Preparation\n",
    "\n",
    "As described above there are various things that are required to prepare the data for analysis:\n",
    "1. Join the `movie_basics` to the `movie_ratings` column using the `INNER JOIN` method\n",
    "2. Drop the rows with no runtime.\n",
    "3. Drop the rows containing missing values in `genres`\n",
    "4. For the purpose of data modelling we need to drop rows with less than 1000 reviews to avoid skewed data and outliers.This can be done when we combine the `movie_basics` and `movie_ratings` tables\n",
    "5. Set the correct data types in the `gross_bom` and `movie_budget` columns.\n",
    "6. Create a column in the `gross_bom` that sums both the domestic and foreign gross columns.\n",
    "7. Group data after joining the relevant `movie_basics` and `movie_ratings` columns by genre.\n",
    "***"
   ]
  },
  {
   "cell_type": "markdown",
   "metadata": {},
   "source": [
    "### 1. Data Cleaning."
   ]
  },
  {
   "cell_type": "markdown",
   "metadata": {},
   "source": [
    "* First step is to join the tables in the `im.db` database into a singulat dataframe."
   ]
  },
  {
   "cell_type": "code",
   "execution_count": null,
   "metadata": {},
   "outputs": [],
   "source": [
    "# Using SQL comprehension.\n",
    "\n",
    "names\n"
   ]
  },
  {
   "cell_type": "markdown",
   "metadata": {},
   "source": [
    "## Data Modelling"
   ]
  },
  {
   "cell_type": "markdown",
   "metadata": {},
   "source": [
    "## Evaluation"
   ]
  },
  {
   "cell_type": "markdown",
   "metadata": {},
   "source": [
    "## Conclusions"
   ]
  },
  {
   "cell_type": "markdown",
   "metadata": {},
   "source": []
  }
 ],
 "metadata": {
  "kernelspec": {
   "display_name": "base",
   "language": "python",
   "name": "python3"
  },
  "language_info": {
   "codemirror_mode": {
    "name": "ipython",
    "version": 3
   },
   "file_extension": ".py",
   "mimetype": "text/x-python",
   "name": "python",
   "nbconvert_exporter": "python",
   "pygments_lexer": "ipython3",
   "version": "3.12.7"
  }
 },
 "nbformat": 4,
 "nbformat_minor": 2
}
