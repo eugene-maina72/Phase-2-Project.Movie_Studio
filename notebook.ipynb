{
 "cells": [
  {
   "cell_type": "markdown",
   "metadata": {},
   "source": [
    "<img src = \"images\\What-does-a-film-studio-do.jpg\">\n",
    "\n",
    "# Assessing the Commercial viability of a movie studio based on Movie genre.\n",
    "\n",
    "**Authors:** Eugene Maina, Ng'etich Gibson, Rose Gitau, Winnie Odoyo\n",
    "***"
   ]
  },
  {
   "cell_type": "markdown",
   "metadata": {},
   "source": [
    "## Overview\n",
    "\n",
    "The project has been undertaken to assess the commercial viablity of setting up a movie studio for original content creation and to determine the most profitable and promising film genre that the studio can create to achieve the objectives of profit maximization,business reputation growth and wealth creation for its shareholders.\n",
    "***"
   ]
  },
  {
   "cell_type": "markdown",
   "metadata": {},
   "source": [
    "### Business Problem\n",
    "\n",
    "<img src = \"images\\moringa_clips.jpeg\" width=\"300\">\n",
    "\n",
    "Moringa Clips is a web video service company that wants to join the original content creation space and have decided to set up their own movie studio to achieve this.They have no experience in film production.In order to determine what type of films the studio should create, we have to conduct an exploratory data analysis on data collected from various review websites to generate insights that will guide the film production team on the way to go about the new project. \n",
    "\n",
    "The target audience of this project is as follows:\n",
    "* The creative director of the film studio.\n",
    "* Company shareholders.\n",
    "* Financial insitutions providing Credit facilities to production companies.\n",
    "* The finance department of the company.\n",
    "\n",
    "The key objective questions are as follows:\n",
    "1. What movie genre generates the highest gross income in box-offices?\n",
    "\n",
    "2. What is the most profitable genre of films when we compare movie budget to gross income at box office?\n",
    "\n",
    "3. Does a higher movie budget guarantee a higher box office gross income?\n",
    "\n",
    "4. Which existing movie studios generate the highest box office gross and what type of movies do they create?\n",
    "5. Do movie ratings correlate with gross box office numbers?\n",
    "6. Are movie ratings determined by the movie budget?   \n",
    "***"
   ]
  },
  {
   "cell_type": "markdown",
   "metadata": {},
   "source": [
    "## Data Understanding"
   ]
  },
  {
   "cell_type": "markdown",
   "metadata": {},
   "source": [
    "### The Data\n",
    "\n",
    "In the folder `data` are movie datasets from:\n",
    "\n",
    "* [Box Office Mojo](https://www.boxofficemojo.com/)\n",
    "* [IMDB](https://www.imdb.com/)\n",
    "* [Rotten Tomatoes](https://www.rottentomatoes.com/)\n",
    "* [TheMovieDB](https://www.themoviedb.org/)\n",
    "* [The Numbers](https://www.the-numbers.com/)\n",
    "\n",
    "Because it was collected from various locations, the different files have different formats. Some are compressed CSV (comma-separated values) or TSV (tab-separated values) and then there is a IMDB database.\n",
    "\n",
    "The IMDB database Entity Relationship Diagram is as follows:\n",
    "\n",
    "![movie data erd](https://raw.githubusercontent.com/learn-co-curriculum/dsc-phase-2-project-v3/main/movie_data_erd.jpeg)"
   ]
  },
  {
   "cell_type": "markdown",
   "metadata": {},
   "source": [
    "### Loading the relevant packages"
   ]
  },
  {
   "cell_type": "code",
   "execution_count": 1,
   "metadata": {},
   "outputs": [],
   "source": [
    "# Importing the nessesary libraries\n",
    "from math import * #Makes basic math operations easier\n",
    "from itertools import * # Makes grouping within a noebook easier.\n",
    "from collections import * #To make count operations easier\n",
    "import sqlite3 # To read into the database\n",
    "import pandas as pd\n",
    "import scipy.stats as stats #For ststistical operstions(Hypothesis testing)\n",
    "import matplotlib.pyplot as plt\n",
    "import seaborn as sns\n",
    "import numpy as np\n",
    "import statsmodels.api as sm # For regression equations\n",
    "plt.style.use('seaborn-v0_8-whitegrid') #Setting the style for the regression plots\n",
    "\n",
    "%matplotlib inline"
   ]
  },
  {
   "cell_type": "markdown",
   "metadata": {},
   "source": [
    "## Data Preparation"
   ]
  },
  {
   "cell_type": "markdown",
   "metadata": {},
   "source": [
    "## Data Modelling"
   ]
  },
  {
   "cell_type": "markdown",
   "metadata": {},
   "source": [
    "## Evaluation"
   ]
  },
  {
   "cell_type": "markdown",
   "metadata": {},
   "source": [
    "## Conclusions"
   ]
  },
  {
   "cell_type": "markdown",
   "metadata": {},
   "source": []
  }
 ],
 "metadata": {
  "kernelspec": {
   "display_name": "base",
   "language": "python",
   "name": "python3"
  },
  "language_info": {
   "codemirror_mode": {
    "name": "ipython",
    "version": 3
   },
   "file_extension": ".py",
   "mimetype": "text/x-python",
   "name": "python",
   "nbconvert_exporter": "python",
   "pygments_lexer": "ipython3",
   "version": "3.12.7"
  }
 },
 "nbformat": 4,
 "nbformat_minor": 2
}
